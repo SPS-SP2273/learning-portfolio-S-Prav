{
 "cells": [
  {
   "attachments": {},
   "cell_type": "markdown",
   "id": "123456",
   "metadata": {},
   "source": [
    "<div style=\"text-align:left;font-size:2em\"><span style=\"font-weight:bolder;font-size:1.25em\">SP2273 | Learning Portfolio</span><br><br><span style=\"font-weight:bold;color:darkred\">Functions (Need) Exercises</span></div>"
   ]
  },
  {
   "cell_type": "markdown",
   "id": "d36841a4",
   "metadata": {},
   "source": [
    "# Excercise 1"
   ]
  },
  {
   "cell_type": "code",
   "execution_count": 17,
   "id": "0d3830e7",
   "metadata": {},
   "outputs": [],
   "source": [
    "def greeting(name):\n",
    "    if name == 'Batman':\n",
    "        return 'Hello Batman! So, nice to meet you!'\n",
    "    return f'Hello {name}!'"
   ]
  },
  {
   "cell_type": "markdown",
   "id": "c1e2df23",
   "metadata": {},
   "source": [
    "The code is trying to account for 2 conditions; one where the user is batman and one where he isnt. Rightfully, there should be an else statement; otherwise in the case where the first 'if' condition is met, both the if block and all code afterwards get executed. \n",
    "\n",
    "However, in this specific case, since there is a return statement inside the 'if\" block, even if the 'if' condition is satisfied, the code outside the 'if' block is not run because the 'return' command causes the function to stop executing."
   ]
  },
  {
   "cell_type": "markdown",
   "id": "1d2339ef",
   "metadata": {},
   "source": [
    "# Excercise 2"
   ]
  },
  {
   "cell_type": "code",
   "execution_count": 18,
   "id": "d51abbe3",
   "metadata": {},
   "outputs": [
    {
     "name": "stdout",
     "output_type": "stream",
     "text": [
      "Normal weight\n"
     ]
    }
   ],
   "source": [
    "def calculate_bmi(weight,height):\n",
    "    BMI=weight / (height ** 2)\n",
    "    if BMI<18.5:\n",
    "        return('Underweight')\n",
    "    if BMI<=24.9:\n",
    "        return('Normal weight')\n",
    "    if BMI<=29.9:\n",
    "        return('Overweight')\n",
    "    else:\n",
    "        return('Obese')\n",
    "print(calculate_bmi(66,1.71))"
   ]
  },
  {
   "cell_type": "markdown",
   "id": "e75fa6e8",
   "metadata": {},
   "source": [
    "# Excercise 3"
   ]
  },
  {
   "cell_type": "code",
   "execution_count": 19,
   "id": "170055a5",
   "metadata": {},
   "outputs": [
    {
     "name": "stdout",
     "output_type": "stream",
     "text": [
      "-1! is  not defined traditionally (unless you consider the gamma function).\n",
      "0! is 1\n",
      "1! is 1\n",
      "2! is 2\n",
      "3! is 6\n",
      "4! is 24\n",
      "5! is 120\n",
      "6! is 720\n",
      "7! is 5040\n",
      "8! is 40320\n",
      "9! is 362880\n",
      "10! is 3628800\n"
     ]
    }
   ],
   "source": [
    "def fac(n):\n",
    "    if n<0:\n",
    "        return(' not defined traditionally (unless you consider the gamma function).')\n",
    "    elif n==0:\n",
    "        return(1)\n",
    "    else:\n",
    "        return(n*fac(n-1))\n",
    "for i in range(-1,11):\n",
    "    print(f'{i}! is'+' '+str(fac(i)))\n",
    "    "
   ]
  }
 ],
 "metadata": {
  "kernelspec": {
   "display_name": "base",
   "language": "python",
   "name": "python3"
  },
  "language_info": {
   "codemirror_mode": {
    "name": "ipython",
    "version": 3
   },
   "file_extension": ".py",
   "mimetype": "text/x-python",
   "name": "python",
   "nbconvert_exporter": "python",
   "pygments_lexer": "ipython3",
   "version": "3.13.5"
  },
  "toc": {
   "base_numbering": 1,
   "nav_menu": {},
   "number_sections": true,
   "sideBar": true,
   "skip_h1_title": false,
   "title_cell": "Table of Contents",
   "title_sidebar": "Contents",
   "toc_cell": false,
   "toc_position": {},
   "toc_section_display": true,
   "toc_window_display": false
  }
 },
 "nbformat": 4,
 "nbformat_minor": 5
}
