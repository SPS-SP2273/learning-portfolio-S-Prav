{
 "cells": [
  {
   "attachments": {},
   "cell_type": "markdown",
   "id": "123456",
   "metadata": {},
   "source": [
    "<div style=\"text-align:left;font-size:2em\"><span style=\"font-weight:bolder;font-size:1.25em\">SP2273 | Learning Portfolio</span><br><br><span style=\"font-weight:bold;color:darkred\">Functions (Good) Exercises</span></div>"
   ]
  },
  {
   "cell_type": "markdown",
   "id": "743f6953",
   "metadata": {},
   "source": [
    "# Excercise 1"
   ]
  },
  {
   "cell_type": "code",
   "execution_count": 14,
   "id": "c32f23fb",
   "metadata": {},
   "outputs": [
    {
     "name": "stdout",
     "output_type": "stream",
     "text": [
      "95.0\n",
      "308.15\n"
     ]
    }
   ],
   "source": [
    "def convert_celsius(temp, scale='Farenheit'):\n",
    "    if scale=='Kelvin':\n",
    "        return temp+273.15\n",
    "    else:\n",
    "        return 1.8*temp+32\n",
    "print(convert_celsius(35))\n",
    "print(convert_celsius(35,'Kelvin'))\n"
   ]
  },
  {
   "cell_type": "markdown",
   "id": "846ae68c",
   "metadata": {},
   "source": [
    "# Excercise 2"
   ]
  },
  {
   "cell_type": "code",
   "execution_count": 15,
   "id": "7b278c6a",
   "metadata": {},
   "outputs": [
    {
     "name": "stdout",
     "output_type": "stream",
     "text": [
      "35.0\n",
      "308.15\n"
     ]
    }
   ],
   "source": [
    "def convert_farenheit(temp, scale='Celsius'):\n",
    "    if scale=='Celsius':\n",
    "        return (temp-32)*(5/9)\n",
    "    else:\n",
    "        return (temp-32)*5/9+273.15\n",
    "print(convert_farenheit(95))\n",
    "print(convert_farenheit(95,'Kelvin'))"
   ]
  },
  {
   "cell_type": "markdown",
   "id": "a2a4f835",
   "metadata": {},
   "source": [
    "# Excercise 3"
   ]
  },
  {
   "cell_type": "code",
   "execution_count": 16,
   "id": "5f7d327f",
   "metadata": {},
   "outputs": [
    {
     "name": "stdout",
     "output_type": "stream",
     "text": [
      "35.0\n",
      "95.0\n"
     ]
    }
   ],
   "source": [
    "def convert_kelvin(temp, scale='Celsius'):\n",
    "    if scale=='Celsius':\n",
    "        return (temp-273.15)\n",
    "    else:\n",
    "        return ((temp-273.15))*1.8+32\n",
    "print(convert_kelvin(308.15))\n",
    "print(convert_kelvin(308.15,'Kelvin'))"
   ]
  },
  {
   "cell_type": "code",
   "execution_count": 17,
   "id": "eae0c5f5",
   "metadata": {},
   "outputs": [
    {
     "name": "stdout",
     "output_type": "stream",
     "text": [
      "95.0\n",
      "308.15\n",
      "35.0\n",
      "308.15\n",
      "35.0\n",
      "95.0\n"
     ]
    }
   ],
   "source": [
    "def convert_temperature(temp,source,target):\n",
    "    if source=='Celsius':\n",
    "        return(convert_celsius(temp,target))\n",
    "    elif source=='Farenheit':\n",
    "        return(convert_farenheit(temp,target))\n",
    "    else:\n",
    "        return(convert_kelvin(temp,target))\n",
    "    \n",
    "print(convert_temperature(35,'Celsius','Farenheit'))\n",
    "print(convert_temperature(95,'Farenheit','Kelvin'))\n",
    "print(convert_temperature(308.15,'Kelvin','Celsius'))\n",
    "print(convert_temperature(35,'Celsius','Kelvin'))\n",
    "print(convert_temperature(95,'Farenheit','Celsius'))\n",
    "print(convert_temperature(308.15,'Kelvin','Farenheit'))\n",
    "\n"
   ]
  }
 ],
 "metadata": {
  "kernelspec": {
   "display_name": "base",
   "language": "python",
   "name": "python3"
  },
  "language_info": {
   "codemirror_mode": {
    "name": "ipython",
    "version": 3
   },
   "file_extension": ".py",
   "mimetype": "text/x-python",
   "name": "python",
   "nbconvert_exporter": "python",
   "pygments_lexer": "ipython3",
   "version": "3.13.5"
  },
  "toc": {
   "base_numbering": 1,
   "nav_menu": {},
   "number_sections": true,
   "sideBar": true,
   "skip_h1_title": false,
   "title_cell": "Table of Contents",
   "title_sidebar": "Contents",
   "toc_cell": false,
   "toc_position": {},
   "toc_section_display": true,
   "toc_window_display": false
  }
 },
 "nbformat": 4,
 "nbformat_minor": 5
}
