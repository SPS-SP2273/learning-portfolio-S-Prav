{
 "cells": [
  {
   "attachments": {},
   "cell_type": "markdown",
   "id": "123456",
   "metadata": {},
   "source": [
    "<div style=\"text-align:left;font-size:2em\"><span style=\"font-weight:bolder;font-size:1.25em\">SP2273 | Learning Portfolio</span><br><br><span style=\"font-weight:bold;color:darkred\">Using Jupyter (Need), Exercises</span></div>"
   ]
  },
  {
   "cell_type": "markdown",
   "id": "8e5c5d17",
   "metadata": {},
   "source": [
    "# Excercise 1"
   ]
  },
  {
   "cell_type": "markdown",
   "id": "123456",
   "metadata": {},
   "source": [
    "## <span style=\"color:Gray\">1</span> Quadratic Equations\n",
    "---\n",
    "![](https://upload.wikimedia.org/wikipedia/commons/thumb/f/f8/Polynomialdeg2.svg/450px-Polynomialdeg2.svg.png)\n",
    "\\\n",
    "(*Image from the <u>[Wikipedia page on Quadratic equations](https://en.wikipedia.org/wiki/Quadratic_equation)</u>*)\n",
    "\n",
    "The general form of a quadratic equation is:\n",
    "\\begin{equation}\n",
    "ax^2+bx+c=0\n",
    "\\end{equation}\n",
    "\n",
    "## Solutions\n",
    "\n",
    "Provided $a \\ne 0$, we can use an elementary algebraic method called <u>[completing the square](https://en.wikipedia.org/wiki/Completing_the_square)</u> to show that a quadratic equation has the following solution:\n",
    "\\begin{equation}\n",
    "x=\\dfrac{-b\\pm\\sqrt{b^2-4ac}}{2a}\n",
    "\\end{equation}\n",
    "\n",
    "## Discriminant \n",
    "The quantity $\\Delta = b^2-4ac$ is called the discriminant of the equation and decides the nature of its solutions. The table below shows the various possibilities.\n",
    "\n",
    "| Discriminant       | Roots                                 |\n",
    "|--------------------|---------------------------------------|\n",
    "| $\\Delta = b^2-4ac=0$ | A single solution of $\\dfrac{-b}{2a}$ |   \n",
    "| $\\Delta = b^2-4ac>0$ | Two distinct solutions                |   \n",
    "| $\\Delta = b^2-4ac<0$| No real solutions;both are complex    | \n",
    "\n"
   ]
  },
  {
   "cell_type": "markdown",
   "id": "123456",
   "metadata": {},
   "source": [
    "\n",
    "# Excercise 2\n",
    "\n"
   ]
  },
  {
   "cell_type": "markdown",
   "id": "123456",
   "metadata": {},
   "source": [
    "1. A **git repository** is a storage location that allows you to store and manage various versions of your files. It lets you maintain any and all previous versions of your project.\n",
    "2. Changes\n",
    "3. A commit in git is similar to the save state of a video-game; it is essentially a save of the state of your project at an instant in time. The changes are saved locally.\n",
    "4. A push refers to the action of 'uploading' any edits made from a personal local repository to the public one.\n",
    "5. A pull refers to the action of getting any changes that have been made to the software from the public repository into the local one.\n",
    "6. Github is a web based platform that uses the git system to store files; it aids in version control and streamlines collaborative workflows. Github desktop is an application that provides the user interface to interact with git and github.\n"
   ]
  },
  {
   "cell_type": "markdown",
   "id": "1cf1b461",
   "metadata": {},
   "source": [
    "# Excercise 3"
   ]
  },
  {
   "cell_type": "markdown",
   "id": "f3832e5e",
   "metadata": {},
   "source": [
    "Excercise 3:\n",
    "\\begin{equation}\n",
    "\\mu=\\frac{1}{n}\\sum_{i=1}^{n}x_i\n",
    "\\end{equation}\n",
    "$$\n",
    "\\sigma= \\sqrt{\\frac{1}{n}\\sum_{i=1}^{n}(x_i-\\mu)^2}\n",
    "$$\n",
    "$$\n",
    "r=\\frac{\\sum_{i=1}^{n}(x_i-\\mu_X)(y_i-\\mu_Y)}{\\sqrt{\\sum_{i=1}^{n}(x_i-\\mu_X)^2(y_i-\\mu_Y)^2}}\n",
    "$$"
   ]
  }
 ],
 "metadata": {
  "kernelspec": {
   "display_name": "Python 3",
   "language": "python",
   "name": "python3"
  },
  "language_info": {
   "codemirror_mode": {
    "name": "ipython",
    "version": 3
   },
   "file_extension": ".py",
   "mimetype": "text/x-python",
   "name": "python",
   "nbconvert_exporter": "python",
   "pygments_lexer": "ipython3",
   "version": "3.10.6 (main, Nov 14 2022, 16:10:14) [GCC 11.3.0]"
  },
  "toc": {
   "base_numbering": 1,
   "nav_menu": {},
   "number_sections": true,
   "sideBar": true,
   "skip_h1_title": false,
   "title_cell": "Table of Contents",
   "title_sidebar": "Contents",
   "toc_cell": false,
   "toc_position": {},
   "toc_section_display": true,
   "toc_window_display": false
  },
  "vscode": {
   "interpreter": {
    "hash": "31f2aee4e71d21fbe5cf8b01ff0e069b9275f58929596ceb00d14d90e3e16cd6"
   }
  }
 },
 "nbformat": 4,
 "nbformat_minor": 5
}
