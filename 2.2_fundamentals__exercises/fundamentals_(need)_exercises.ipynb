{
 "cells": [
  {
   "attachments": {},
   "cell_type": "markdown",
   "id": "123456",
   "metadata": {},
   "source": [
    "<div style=\"text-align:left;font-size:2em\"><span style=\"font-weight:bolder;font-size:1.25em\">SP2273 | Learning Portfolio</span><br><br><span style=\"font-weight:bold;color:darkred\">Fundamentals (Need) Exercises</span></div>"
   ]
  },
  {
   "cell_type": "markdown",
   "id": "cf282ea9",
   "metadata": {},
   "source": [
    "# Excercise 1"
   ]
  },
  {
   "cell_type": "markdown",
   "id": "e62b55ec",
   "metadata": {},
   "source": [
    "\n",
    "- Python is case sensitive\n",
    "- Python is an interpreted language\n",
    "- Python is object oriented (Has features that let us create classes)\n",
    "- Python doesnt have a line terminator\n",
    "- Python represents blocks of code by way of indentation\n",
    "- *Python ignores all comments*\n",
    "- *‘age’ is English, age is a variable*\n"
   ]
  },
  {
   "cell_type": "markdown",
   "id": "4b3ecd70",
   "metadata": {},
   "source": [
    "# Excercise 2"
   ]
  },
  {
   "cell_type": "markdown",
   "id": "6a84bd47",
   "metadata": {},
   "source": [
    "## The erroneous code:"
   ]
  },
  {
   "cell_type": "code",
   "execution_count": 2,
   "id": "7425b4ec",
   "metadata": {},
   "outputs": [
    {
     "ename": "IndentationError",
     "evalue": "unindent does not match any outer indentation level (<string>, line 3)",
     "output_type": "error",
     "traceback": [
      "  \u001b[36mFile \u001b[39m\u001b[32m<string>:3\u001b[39m\n\u001b[31m    \u001b[39m\u001b[31mPrint(x, y, z)\u001b[39m\n                  ^\n\u001b[31mIndentationError\u001b[39m\u001b[31m:\u001b[39m unindent does not match any outer indentation level\n"
     ]
    }
   ],
   "source": [
    "x, y = 3, 4\n",
    "        z = sqrt(x*2 + y**2)\n",
    "    Print(x, y, z)"
   ]
  },
  {
   "cell_type": "markdown",
   "id": "f77e6510",
   "metadata": {},
   "source": [
    "The goal is to create the pythagorean triple 3,4,5. The errors are as follows:\n",
    "- In line 2, we cannot juse use sqrt directly; the sqrt function is offered to us under the numpy module. Thus, we must import the module first.\n",
    "- line 2 and 3 are improperly indented. Python makes use of indentation to represent blocks of code. This makes python appear and feel cleaner than other programming languages.Since the 3 statements are to be executed as one block of code, they cannot be at different indents.\n",
    "- In line 2, inside the sqrt function, x*2 will return the product of x and 2. This is not what we want. To exponentiate, we must use ** instead of *.\n",
    "- In line 3, 'Print' is used. This is an invalid command. Python is case sensitive, so we need to write 'print' instead.\n",
    "- lastly, since we are talking about integer pythagorean triplets, it makes sense to display z as an integer, whereas the sqrt() function returns it as a float. We may convert the result to integer before printing.\n",
    "\n",
    "Here is the corrected code:"
   ]
  },
  {
   "cell_type": "markdown",
   "id": "30790140",
   "metadata": {},
   "source": [
    "## Corrected code"
   ]
  },
  {
   "cell_type": "code",
   "execution_count": 4,
   "id": "cd180f0a",
   "metadata": {},
   "outputs": [
    {
     "name": "stdout",
     "output_type": "stream",
     "text": [
      "3 4 5\n"
     ]
    }
   ],
   "source": [
    "from numpy import sqrt\n",
    "x, y=3, 4\n",
    "z=int(sqrt(x**2 + y**2))\n",
    "print(x,y,z)"
   ]
  },
  {
   "cell_type": "markdown",
   "id": "062812ef",
   "metadata": {},
   "source": [
    "# Excercise 3"
   ]
  },
  {
   "cell_type": "markdown",
   "id": "a4dc75cd",
   "metadata": {},
   "source": [
    "| #  | Term         | Description                                                                                                                                                                                           |\n",
    "|----|--------------|-------------------------------------------------------------------------------------------------------------------------------------------------------------------------------------------------------|\n",
    "| 1  | Function     | Python functions allow us to package lines of code that need to operate multiple times in multiple different circumstances under one label, allowing us to simply call the label as and when required. |\n",
    "| 2  | Arguments    | Arguments are specific values that get passed into function parameters.                                                                                                                               |\n",
    "| 3  | Comments     | Lines of code that do not get executed; they simply exist to furnish details about the written code to anyone who might read the code in the future.                                                  |\n",
    "| 4  | Indentations | Indentations in python are used to separate various blocks of code.                                                                                                                                   |\n",
    "| 5  | Packages     | Python packages are collections of modules that have pre-defined functions that one can simply import and use in one's own code.                                                                      |\n",
    "| 6  | .            | Used to specify either the argument for a method(eg. l.append(x)) or used to call a specific function/class from a module.                                                                            |\n",
    "| 7  | :            | Used at the beginning of blocks of code(eg. for i in range(10):)                                                                                                                                      |\n",
    "| 8  | []           | Used to create lists. Also used to index iterables in python.                                                                                                                                         |\n",
    "| 9  | [[],[]]      | This is a nested list with 2 elements, both of which are the empty list.                                                                                                                              |\n",
    "| 10 | {}           | Used to create dictionaries.                                                                                                                                                                          |"
   ]
  },
  {
   "cell_type": "markdown",
   "id": "660bd8ac",
   "metadata": {},
   "source": [
    "# Excercise 4"
   ]
  },
  {
   "cell_type": "markdown",
   "id": "a712bf20",
   "metadata": {},
   "source": [
    "Python offers us a few different ways of performing divisions, and we may choose to use one or the other depending on which fits our use case the best.\n",
    "\n",
    "1. '/': this operator performs a complete division and gives us a float as the output. The result of this division is absolute; the output is the decimal value of the 2 numbers being divided.\n",
    "\n",
    "2. '//': this operator performs an integer division, and gives us the quotient as the output. We get an int type value as the output.\n",
    "\n",
    "3. '%': this operator performs an integer division, and gives us the remainder as the output. We get an int type value as the output. It is also called the modulus operator.\n",
    "\n",
    "The 3 operators and their uses are displayed below."
   ]
  },
  {
   "cell_type": "code",
   "execution_count": 13,
   "id": "27e19a59",
   "metadata": {},
   "outputs": [
    {
     "name": "stdout",
     "output_type": "stream",
     "text": [
      " The normal division gives us 2.5\n",
      " The integer division gives us 2\n",
      " The modulus operator gives us 1 \n",
      "\n"
     ]
    }
   ],
   "source": [
    "x=5/2 #this is the normal division mentioned in 1\n",
    "y=5//2 #this is the integer division mentioned in 2\n",
    "z=5%2 #this is the integer division mentioned in 3, giving us the remainder.\n",
    "\n",
    "print(f\" The normal division gives us {x}\\n\",f\"The integer division gives us {y}\\n\",f\"The modulus operator gives us {z}\",'\\n')"
   ]
  }
 ],
 "metadata": {
  "kernelspec": {
   "display_name": "base",
   "language": "python",
   "name": "python3"
  },
  "language_info": {
   "codemirror_mode": {
    "name": "ipython",
    "version": 3
   },
   "file_extension": ".py",
   "mimetype": "text/x-python",
   "name": "python",
   "nbconvert_exporter": "python",
   "pygments_lexer": "ipython3",
   "version": "3.13.5"
  },
  "toc": {
   "base_numbering": 1,
   "nav_menu": {},
   "number_sections": true,
   "sideBar": true,
   "skip_h1_title": false,
   "title_cell": "Table of Contents",
   "title_sidebar": "Contents",
   "toc_cell": false,
   "toc_position": {},
   "toc_section_display": true,
   "toc_window_display": false
  }
 },
 "nbformat": 4,
 "nbformat_minor": 5
}
