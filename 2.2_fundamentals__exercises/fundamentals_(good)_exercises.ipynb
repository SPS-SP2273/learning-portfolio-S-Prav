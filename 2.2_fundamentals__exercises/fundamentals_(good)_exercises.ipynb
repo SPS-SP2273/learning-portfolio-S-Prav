{
 "cells": [
  {
   "attachments": {},
   "cell_type": "markdown",
   "id": "123456",
   "metadata": {},
   "source": [
    "<div style=\"text-align:left;font-size:2em\"><span style=\"font-weight:bolder;font-size:1.25em\">SP2273 | Learning Portfolio</span><br><br><span style=\"font-weight:bold;color:darkred\">Fundamentals (Good) Exercises</span></div>"
   ]
  },
  {
   "cell_type": "markdown",
   "id": "8be55291",
   "metadata": {},
   "source": [
    "# Excercise 1"
   ]
  },
  {
   "cell_type": "markdown",
   "id": "63d2ebaf",
   "metadata": {},
   "source": [
    "## 1:"
   ]
  },
  {
   "cell_type": "code",
   "execution_count": 2,
   "id": "f3f32ba2",
   "metadata": {},
   "outputs": [
    {
     "name": "stdout",
     "output_type": "stream",
     "text": [
      "How you doin Prahaladh!\n"
     ]
    }
   ],
   "source": [
    "name=input('Please enter your name ')\n",
    "print(f'How you doin {name}!')"
   ]
  },
  {
   "cell_type": "markdown",
   "id": "75ce08f3",
   "metadata": {},
   "source": [
    "## 2:"
   ]
  },
  {
   "cell_type": "code",
   "execution_count": 3,
   "id": "87dea1bf",
   "metadata": {},
   "outputs": [
    {
     "name": "stdout",
     "output_type": "stream",
     "text": [
      "My name is Prahaladh and I am 21 years old.\n"
     ]
    }
   ],
   "source": [
    "name=input('Please enter your name ')\n",
    "age= input('enter your age')\n",
    "print(f'My name is {name} and I am {age} years old.')"
   ]
  },
  {
   "cell_type": "markdown",
   "id": "d1afe1bf",
   "metadata": {},
   "source": [
    "## 3"
   ]
  },
  {
   "cell_type": "code",
   "execution_count": 19,
   "id": "e1fd1ff2",
   "metadata": {},
   "outputs": [
    {
     "name": "stdout",
     "output_type": "stream",
     "text": [
      "The value of pi to 2 decimal places is: 3.14\n",
      "The value of pi to 3 decimal places is: 3.142\n",
      "The value of pi to 4 decimal places is: 3.1416\n"
     ]
    }
   ],
   "source": [
    "pi=3.141592653589793\n",
    "for i in range(2,5):\n",
    "    print(f\"The value of pi to {i} decimal places is: {pi:.{i}f}\")\n"
   ]
  },
  {
   "cell_type": "markdown",
   "id": "a9acb572",
   "metadata": {},
   "source": [
    "# Excercise 2"
   ]
  },
  {
   "cell_type": "code",
   "execution_count": 13,
   "id": "6c8e5368",
   "metadata": {},
   "outputs": [
    {
     "name": "stdout",
     "output_type": "stream",
     "text": [
      "The student's letter grade is: A\n"
     ]
    }
   ],
   "source": [
    "try:\n",
    "    score=int(input(\"enter the student's score\"))\n",
    "    if score>100 or score<0:\n",
    "        print('Invalid Grade! your grade is supposed to be a number between (and including) 0 and 100')\n",
    "    elif score>=70:\n",
    "        print(\"The student's letter grade is: A\")\n",
    "    elif score>=50:\n",
    "        print(\"The student's letter grade is: B\")\n",
    "    elif score>=35:\n",
    "        print(\"The student's letter grade is: C\")\n",
    "    else:\n",
    "        print(\"The student has failed\")\n",
    "except:\n",
    "    print('Make sure your input is formatted properly.')"
   ]
  },
  {
   "cell_type": "markdown",
   "id": "a9882180",
   "metadata": {},
   "source": [
    "# Excercise 3"
   ]
  },
  {
   "cell_type": "code",
   "execution_count": 22,
   "id": "057927e2",
   "metadata": {},
   "outputs": [
    {
     "name": "stdout",
     "output_type": "stream",
     "text": [
      "120\n",
      "Invalid input\n"
     ]
    }
   ],
   "source": [
    "def factorial(n):\n",
    "    if n < 0: #Flipped the inequality\n",
    "        return \"Invalid input\"\n",
    "    elif n == 0: # changed the 'not equal' into an 'is equal'\n",
    "        return 1\n",
    "    else:\n",
    "        result = 1\n",
    "        for number in range(1, n+1):\n",
    "            result *= number # changed the sum to a product\n",
    "        return result\n",
    "\n",
    "\n",
    "print(factorial(5))   # Testing, expected output: 120\n",
    "print(factorial(-1))  # Testing, expected output: Invalid input"
   ]
  }
 ],
 "metadata": {
  "kernelspec": {
   "display_name": "base",
   "language": "python",
   "name": "python3"
  },
  "language_info": {
   "codemirror_mode": {
    "name": "ipython",
    "version": 3
   },
   "file_extension": ".py",
   "mimetype": "text/x-python",
   "name": "python",
   "nbconvert_exporter": "python",
   "pygments_lexer": "ipython3",
   "version": "3.13.5"
  },
  "toc": {
   "base_numbering": 1,
   "nav_menu": {},
   "number_sections": true,
   "sideBar": true,
   "skip_h1_title": false,
   "title_cell": "Table of Contents",
   "title_sidebar": "Contents",
   "toc_cell": false,
   "toc_position": {},
   "toc_section_display": true,
   "toc_window_display": false
  }
 },
 "nbformat": 4,
 "nbformat_minor": 5
}
