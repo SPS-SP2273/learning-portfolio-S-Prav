{
 "cells": [
  {
   "cell_type": "markdown",
   "id": "584cb964-c8aa-44dd-86a6-4acde2fbeac0",
   "metadata": {},
   "source": [
    "Excercise 1 \n",
    "# <span style=\"color:Gray\">1</span> Quadratic Equations\n",
    "---\n",
    "## Introduction\n",
    "![](https://upload.wikimedia.org/wikipedia/commons/thumb/f/f8/Polynomialdeg2.svg/450px-Polynomialdeg2.svg.png)\n",
    "\\\n",
    "(*Image from the <u>[Wikipedia page on Quadratic equations](https://en.wikipedia.org/wiki/Quadratic_equation)</u>*)\n",
    "\n",
    "The general form of a quadratic equation is:\n",
    "\\begin{equation}\n",
    "ax^2+bx+c=0\n",
    "\\end{equation}\n",
    "\n",
    "## Solutions\n",
    "\n",
    "Provided $a \\ne 0$, we can use an elementary algebraic method called <u>[completing the square](https://en.wikipedia.org/wiki/Completing_the_square)</u> to show that a quadratic equation has the following solution:\n",
    "\\begin{equation}\n",
    "x=\\dfrac{-b\\pm\\sqrt{b^2-4ac}}{2a}\n",
    "\\end{equation}\n",
    "\n",
    "## Discriminant \n",
    "The quantity $\\Delta = b^2-4ac$ is called the discriminant of the equation and decides the nature of its solutions. The table below shows the various possibilities.\n",
    "\n",
    "| Discriminant       | Roots                                 |\n",
    "|--------------------|---------------------------------------|\n",
    "| $\\Delta = b^2-4ac=0$ | A single solution of $\\dfrac{-b}{2a}$ |   \n",
    "| $\\Delta = b^2-4ac>0$ | Two distinct solutions                |   \n",
    "| $\\Delta = b^2-4ac<0$| No real solutions;both are complex    |   \n"
   ]
  },
  {
   "cell_type": "markdown",
   "id": "52592cad-158c-4549-9b8a-3c4f45ccc0ac",
   "metadata": {},
   "source": [
    "Excercise 2\n",
    "1. A **git repository** is a storage location that allows you to store and manage various versions of your files. It lets you maintain any and all previous versions of your project.\n",
    "2. Changes\n",
    "3. A commit in git is similar to the save state of a video-game; it is essentially a save of the state of your project at an instant in time. The changes are saved locally.\n",
    "4. A push refers to the action of 'uploading' any edits made from a personal local repository to the public one.\n",
    "5. A pull refers to the action of getting any changes that have been made to the software from the public repository into the local one.\n",
    "6. Github is a web based platform that uses the git system to store files; it aids in version control and streamlines collaborative workflows. Github desktop is an application that provides the user interface to interact with git and github."
   ]
  },
  {
   "cell_type": "markdown",
   "id": "0adc83f1-9c6d-408d-af98-dad466a302d3",
   "metadata": {},
   "source": [
    "Excercise 3:\n",
    "\\begin{equation}\n",
    "\\mu=\\frac{1}{n}\\sum_{i=1}^{n}x_i\n",
    "\\end{equation}\n",
    "$$\n",
    "\\sigma= \\sqrt{\\frac{1}{n}\\sum_{i=1}^{n}(x_i-\\mu)^2}\n",
    "$$\n",
    "$$\n",
    "r=\\frac{\\sum_{i=1}^{n}(x_i-\\mu_X)(y_i-\\mu_Y)}{\\sqrt{\\sum_{i=1}^{n}(x_i-\\mu_X)^2(y_i-\\mu_Y)^2}}\n",
    "$$"
   ]
  }
 ],
 "metadata": {
  "kernelspec": {
   "display_name": "base",
   "language": "python",
   "name": "python3"
  },
  "language_info": {
   "codemirror_mode": {
    "name": "ipython",
    "version": 3
   },
   "file_extension": ".py",
   "mimetype": "text/x-python",
   "name": "python",
   "nbconvert_exporter": "python",
   "pygments_lexer": "ipython3",
   "version": "3.13.5"
  }
 },
 "nbformat": 4,
 "nbformat_minor": 5
}
