{
 "cells": [
  {
   "cell_type": "markdown",
   "id": "584cb964-c8aa-44dd-86a6-4acde2fbeac0",
   "metadata": {},
   "source": [
    "Excercise 1 \n",
    "# <span style=\"color:Gray\">1</span> Quadratic Equations\n",
    "---\n",
    "## Introduction\n",
    "![](https://upload.wikimedia.org/wikipedia/commons/thumb/f/f8/Polynomialdeg2.svg/450px-Polynomialdeg2.svg.png)\n",
    "\\\n",
    "(*Image from the <u>[Wikipedia page on Quadratic equations](https://en.wikipedia.org/wiki/Quadratic_equation)</u>*)\n",
    "\n",
    "The general form of a quadratic equation is:\n",
    "\\begin{equation}\n",
    "ax^2+bx+c=0\n",
    "\\end{equation}\n",
    "\n",
    "## Solutions\n",
    "\n",
    "Provided $a \\ne 0$, we can use an elementary algebraic method called <u>[completing the square](https://en.wikipedia.org/wiki/Completing_the_square)</u> to show that a quadratic equation has the following solution:\n",
    "\\begin{equation}\n",
    "x=\\dfrac{-b\\pm\\sqrt{b^2-4ac}}{2a}\n",
    "\\end{equation}\n",
    "\n",
    "## Discriminant \n",
    "The quantity $\\Delta = b^2-4ac$ is called the discriminant of the equation and decides the nature of its solutions. The table below shows the various possibilities.\n",
    "\n",
    "| Discriminant       | Roots                                 |\n",
    "|--------------------|---------------------------------------|\n",
    "| $\\Delta = b^2-4ac=0$ | A single solution of $\\dfrac{-b}{2a}$ |   \n",
    "| $\\Delta = b^2-4ac>0$ | Two distinct solutions                |   \n",
    "| $\\Delta = b^2-4ac<0$| No real solutions;both are complex    |   \n"
   ]
  },
  {
   "cell_type": "markdown",
   "id": "52592cad-158c-4549-9b8a-3c4f45ccc0ac",
   "metadata": {},
   "source": [
    "Excercise 2\n",
    "1. A **git repository** is a storage location that allows you to store and manage various versions of your files. It lets you maintain any and all previous versions of your project.\n",
    "2. Changes\n",
    "3. A commit in git is similar to the save state of a video-game; it is essentially a save of the state of your project at an instant in time. The changes are saved locally.\n",
    "4. A push refers to the action of 'uploading' any edits made from a personal local repository to the public one.\n",
    "5. A pull refers to the action of getting any changes that have been made to the software from the public repository into the local one.\n",
    "6. Github is a web based platform that uses the git system to store files; it aids in version control and streamlines collaborative workflows. Github desktop is an application that provides the user interface to interact with git and github."
   ]
  },
  {
   "cell_type": "code",
   "execution_count": null,
   "id": "db8fa417-f66d-46b3-8478-732c05564b89",
   "metadata": {},
   "outputs": [],
   "source": [
    "Excersize 3"
   ]
  }
 ],
 "metadata": {
  "kernelspec": {
   "display_name": "Python 3 (ipykernel)",
   "language": "python",
   "name": "python3"
  },
  "language_info": {
   "codemirror_mode": {
    "name": "ipython",
    "version": 3
   },
   "file_extension": ".py",
   "mimetype": "text/x-python",
   "name": "python",
   "nbconvert_exporter": "python",
   "pygments_lexer": "ipython3",
   "version": "3.10.18"
  }
 },
 "nbformat": 4,
 "nbformat_minor": 5
}
