{
 "cells": [
  {
   "attachments": {},
   "cell_type": "markdown",
   "id": "123456",
   "metadata": {},
   "source": [
    "<div style=\"text-align:left;font-size:2em\"><span style=\"font-weight:bolder;font-size:1.25em\">SP2273 | Learning Portfolio</span><br><br><span style=\"font-weight:bold;color:darkred\">Loops (Good) Exercises</span></div>"
   ]
  },
  {
   "cell_type": "markdown",
   "id": "063c025a",
   "metadata": {},
   "source": [
    "# Excercise 1"
   ]
  },
  {
   "cell_type": "code",
   "execution_count": 16,
   "id": "1fe841c5",
   "metadata": {},
   "outputs": [
    {
     "name": "stdout",
     "output_type": "stream",
     "text": [
      "[1, 9, 25, 49, 81]\n"
     ]
    }
   ],
   "source": [
    "list1=list()\n",
    "for i in range(10):\n",
    "    if i%2==0:\n",
    "        continue\n",
    "    else:\n",
    "        list1.append(i**2) \n",
    "print(list1)"
   ]
  },
  {
   "cell_type": "markdown",
   "id": "ebd4e6e5",
   "metadata": {},
   "source": [
    "# Excercise 2"
   ]
  },
  {
   "cell_type": "code",
   "execution_count": 17,
   "id": "3a1b6b74",
   "metadata": {},
   "outputs": [
    {
     "name": "stdout",
     "output_type": "stream",
     "text": [
      "[1, 9, 25, 49, 81]\n"
     ]
    }
   ],
   "source": [
    "list1=[i**2 for i in range(1,10,2)]\n",
    "print(list1)"
   ]
  },
  {
   "cell_type": "markdown",
   "id": "bf37ba7f",
   "metadata": {},
   "source": [
    "# Excercise 3"
   ]
  },
  {
   "cell_type": "markdown",
   "id": "02399cb5",
   "metadata": {},
   "source": [
    "The code from excercise 1:"
   ]
  },
  {
   "cell_type": "code",
   "execution_count": 18,
   "id": "2b069507",
   "metadata": {},
   "outputs": [
    {
     "name": "stdout",
     "output_type": "stream",
     "text": [
      "423 ns ± 2.51 ns per loop (mean ± std. dev. of 7 runs, 1,000,000 loops each)\n"
     ]
    }
   ],
   "source": [
    "%%timeit\n",
    "list1=list()\n",
    "for i in range(10):\n",
    "    if i%2==0:\n",
    "        continue\n",
    "    else:\n",
    "        list1.append(i**2) "
   ]
  },
  {
   "cell_type": "markdown",
   "id": "1294739d",
   "metadata": {},
   "source": [
    "The code from excercise 2:"
   ]
  },
  {
   "cell_type": "code",
   "execution_count": 19,
   "id": "6e679b2b",
   "metadata": {},
   "outputs": [
    {
     "name": "stdout",
     "output_type": "stream",
     "text": [
      "201 ns ± 4.18 ns per loop (mean ± std. dev. of 7 runs, 1,000,000 loops each)\n"
     ]
    }
   ],
   "source": [
    "%%timeit\n",
    "list1=[i**2 for i in range(1,10,2)]"
   ]
  },
  {
   "cell_type": "markdown",
   "id": "a7adc74b",
   "metadata": {},
   "source": [
    "Clearly, the second code is faster, because list comprehension is generally faster as when compared to a for loop, since the for loop needs to allocate memory dynamically, whereas in list comprehension syntax, the underlying mechanism can allocate a fixed amount of memory. Also, list comprehension offloads the workload to C, which is a lighter and faster language as when compared to python."
   ]
  },
  {
   "cell_type": "markdown",
   "id": "ced4ad61",
   "metadata": {},
   "source": [
    "# Excercise 4"
   ]
  },
  {
   "cell_type": "code",
   "execution_count": 20,
   "id": "e3bd19d5",
   "metadata": {},
   "outputs": [
    {
     "name": "stdout",
     "output_type": "stream",
     "text": [
      "rounded up, it takes 14 years for the sample to halve (the actual amount after 14 years is 48.76749791155295).\n"
     ]
    }
   ],
   "source": [
    "quantity0=100\n",
    "quantity=quantity0\n",
    "years=0\n",
    "while quantity>quantity0/2:\n",
    "    years+=1\n",
    "    quantity*=0.95\n",
    "print(f'rounded up, it takes {years} years for the sample to halve (the actual amount after {years} years is {quantity}).')\n",
    "\n",
    "\n"
   ]
  },
  {
   "cell_type": "markdown",
   "id": "6d2d91ce",
   "metadata": {},
   "source": [
    "# Excercise 5:"
   ]
  },
  {
   "cell_type": "code",
   "execution_count": 21,
   "id": "746680e0",
   "metadata": {},
   "outputs": [
    {
     "name": "stdout",
     "output_type": "stream",
     "text": [
      "in 2016, the change in concentration of CO2 compared to the previous year was 3.410000000000025\n"
     ]
    }
   ],
   "source": [
    "co2_data = [\n",
    "    (2000, 369.55), (2001, 371.14), (2002, 373.28), \n",
    "    (2003, 375.80), (2004, 377.52), (2005, 379.80), \n",
    "    (2006, 381.90), (2007, 383.79), (2008, 385.60), \n",
    "    (2009, 387.43), (2010, 389.90), (2011, 391.65), \n",
    "    (2012, 393.85), (2013, 396.52), (2014, 398.65),\n",
    "    (2015, 400.83), (2016, 404.24), (2017, 406.55), \n",
    "    (2018, 408.52), (2019, 411.44), (2020, 414.24)\n",
    "]\n",
    "\n",
    "for i in range(1,len(co2_data)):\n",
    "    if co2_data[i][1]-co2_data[i-1][1]>=3:\n",
    "        print(f\"in {co2_data[i][0]}, the change in concentration of CO2 compared to the previous year was {co2_data[i][1]-co2_data[i-1][1]}\")\n"
   ]
  }
 ],
 "metadata": {
  "kernelspec": {
   "display_name": "base",
   "language": "python",
   "name": "python3"
  },
  "language_info": {
   "codemirror_mode": {
    "name": "ipython",
    "version": 3
   },
   "file_extension": ".py",
   "mimetype": "text/x-python",
   "name": "python",
   "nbconvert_exporter": "python",
   "pygments_lexer": "ipython3",
   "version": "3.13.5"
  },
  "toc": {
   "base_numbering": 1,
   "nav_menu": {},
   "number_sections": true,
   "sideBar": true,
   "skip_h1_title": false,
   "title_cell": "Table of Contents",
   "title_sidebar": "Contents",
   "toc_cell": false,
   "toc_position": {},
   "toc_section_display": true,
   "toc_window_display": false
  }
 },
 "nbformat": 4,
 "nbformat_minor": 5
}
