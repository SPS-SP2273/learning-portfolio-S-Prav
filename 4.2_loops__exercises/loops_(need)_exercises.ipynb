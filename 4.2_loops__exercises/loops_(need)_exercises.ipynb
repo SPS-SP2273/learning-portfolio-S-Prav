{
 "cells": [
  {
   "attachments": {},
   "cell_type": "markdown",
   "id": "123456",
   "metadata": {},
   "source": [
    "<div style=\"text-align:left;font-size:2em\"><span style=\"font-weight:bolder;font-size:1.25em\">SP2273 | Learning Portfolio</span><br><br><span style=\"font-weight:bold;color:darkred\">Loops (Need) Exercises</span></div>"
   ]
  },
  {
   "cell_type": "markdown",
   "id": "173463ba",
   "metadata": {},
   "source": [
    "# Excercise 1"
   ]
  },
  {
   "cell_type": "code",
   "execution_count": 3,
   "id": "256e5fb6",
   "metadata": {},
   "outputs": [
    {
     "name": "stdout",
     "output_type": "stream",
     "text": [
      "0 celsius = 32.0 farenheit\n",
      "5 celsius = 41.0 farenheit\n",
      "10 celsius = 50.0 farenheit\n",
      "15 celsius = 59.0 farenheit\n",
      "20 celsius = 68.0 farenheit\n",
      "25 celsius = 77.0 farenheit\n",
      "30 celsius = 86.0 farenheit\n",
      "35 celsius = 95.0 farenheit\n",
      "40 celsius = 104.0 farenheit\n",
      "45 celsius = 113.0 farenheit\n",
      "50 celsius = 122.0 farenheit\n"
     ]
    }
   ],
   "source": [
    "temperatures_celsius = [\n",
    "    0, 5, 10, 15, 20, 25,\n",
    "    30, 35, 40, 45, 50\n",
    "]\n",
    "\n",
    "for tempc in temperatures_celsius:\n",
    "    tempf=1.8*tempc+32\n",
    "    print(f'{tempc} celsius = {tempf} farenheit')"
   ]
  },
  {
   "cell_type": "markdown",
   "id": "e2c7fd72",
   "metadata": {},
   "source": [
    "# Excercise 2"
   ]
  },
  {
   "cell_type": "code",
   "execution_count": 4,
   "id": "1e8e67b8",
   "metadata": {},
   "outputs": [
    {
     "name": "stdout",
     "output_type": "stream",
     "text": [
      "1 :\t1\t2\t3\t4\t5\t\n",
      "\n",
      "2 :\t2\t4\t6\t8\t10\t\n",
      "\n",
      "3 :\t3\t6\t9\t12\t15\t\n",
      "\n",
      "4 :\t4\t8\t12\t16\t20\t\n",
      "\n",
      "5 :\t5\t10\t15\t20\t25\t\n",
      "\n"
     ]
    }
   ],
   "source": [
    "for i in range(1,6):\n",
    "    print(f'{i} :',end='\\t')\n",
    "    for j in range(1,6):\n",
    "        print(f'{i*j}', end='\\t')\n",
    "    print('\\n')\n"
   ]
  },
  {
   "cell_type": "markdown",
   "id": "325d4257",
   "metadata": {},
   "source": [
    "# Excercise 3"
   ]
  },
  {
   "cell_type": "code",
   "execution_count": 5,
   "id": "06fc3409",
   "metadata": {},
   "outputs": [
    {
     "name": "stdout",
     "output_type": "stream",
     "text": [
      "Experiment 1: No. of heads = 6\n",
      "Experiment 2: No. of heads = 4\n",
      "Experiment 3: No. of heads = 4\n",
      "Experiment 4: No. of heads = 9\n",
      "Experiment 5: No. of heads = 5\n",
      "Experiment 6: No. of heads = 6\n",
      "Experiment 7: No. of heads = 5\n",
      "Experiment 8: No. of heads = 1\n",
      "Experiment 9: No. of heads = 5\n",
      "Experiment 10: No. of heads = 5\n"
     ]
    }
   ],
   "source": [
    "import numpy\n",
    "for i in range(1,11):\n",
    "    array1= numpy.random.rand(10)\n",
    "    mask=array1>0.5\n",
    "    heads=mask.sum()\n",
    "    print(f'Experiment {i}: No. of heads = {heads}')\n",
    "\n"
   ]
  }
 ],
 "metadata": {
  "kernelspec": {
   "display_name": "base",
   "language": "python",
   "name": "python3"
  },
  "language_info": {
   "codemirror_mode": {
    "name": "ipython",
    "version": 3
   },
   "file_extension": ".py",
   "mimetype": "text/x-python",
   "name": "python",
   "nbconvert_exporter": "python",
   "pygments_lexer": "ipython3",
   "version": "3.13.5"
  },
  "toc": {
   "base_numbering": 1,
   "nav_menu": {},
   "number_sections": true,
   "sideBar": true,
   "skip_h1_title": false,
   "title_cell": "Table of Contents",
   "title_sidebar": "Contents",
   "toc_cell": false,
   "toc_position": {},
   "toc_section_display": true,
   "toc_window_display": false
  }
 },
 "nbformat": 4,
 "nbformat_minor": 5
}
