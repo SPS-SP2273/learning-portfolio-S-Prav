{
 "cells": [
  {
   "attachments": {},
   "cell_type": "markdown",
   "id": "123456",
   "metadata": {},
   "source": [
    "<div style=\"text-align:left;font-size:2em\"><span style=\"font-weight:bolder;font-size:1.25em\">SP2273 | Learning Portfolio</span><br><br><span style=\"font-weight:bold;color:darkred\">Storing Data (Need) Exercises</span></div>"
   ]
  },
  {
   "cell_type": "markdown",
   "id": "402835fa",
   "metadata": {},
   "source": [
    "# Excercise 1"
   ]
  },
  {
   "cell_type": "markdown",
   "id": "05174595",
   "metadata": {},
   "source": [
    "### 1."
   ]
  },
  {
   "cell_type": "markdown",
   "id": "a6c8e7f6",
   "metadata": {},
   "source": [
    "1. Both lists and arrays may be accessed via indexing\n",
    "2. Both lists and arrays store a series of values"
   ]
  },
  {
   "cell_type": "markdown",
   "id": "17b9267e",
   "metadata": {},
   "source": [
    "### 2."
   ]
  },
  {
   "cell_type": "markdown",
   "id": "851cbf5a",
   "metadata": {},
   "source": [
    "1. Lists and Arrays are different classes of objects\n",
    "2. *Arrays are type sensitive*"
   ]
  },
  {
   "cell_type": "markdown",
   "id": "de2e0bf4",
   "metadata": {},
   "source": [
    "### 3."
   ]
  },
  {
   "cell_type": "markdown",
   "id": "b70849f3",
   "metadata": {},
   "source": [
    "Dictionaries are unordered iterable objects in python that store pairs of values. This is useful when we want to store information about a collection of objects."
   ]
  },
  {
   "cell_type": "markdown",
   "id": "1af9da98",
   "metadata": {},
   "source": [
    "# Excercise 2"
   ]
  },
  {
   "cell_type": "code",
   "execution_count": 18,
   "id": "768ca8b1",
   "metadata": {},
   "outputs": [
    {
     "name": "stdout",
     "output_type": "stream",
     "text": [
      "a1\n",
      "c3\n",
      "e5\n",
      "g7\n",
      "i9\n"
     ]
    }
   ],
   "source": [
    "py_list = [\"a1\", \"b2\", \"c3\", \"d4\", \"e5\", \"f6\", \"g7\", \"h8\", \"i9\", \"j10\"]\n",
    "print(py_list[0])   # Prints 'a1'\n",
    "print(py_list[2])   # Prints 'c3'\n",
    "print(py_list[4])   # Prints 'e5'\n",
    "print(py_list[6])   # Prints 'g7'\n",
    "print(py_list[8])   # Prints 'i9'"
   ]
  },
  {
   "cell_type": "markdown",
   "id": "948fdb19",
   "metadata": {},
   "source": [
    "# Excercise 3"
   ]
  },
  {
   "cell_type": "code",
   "execution_count": 19,
   "id": "4de4ac6e",
   "metadata": {},
   "outputs": [
    {
     "name": "stdout",
     "output_type": "stream",
     "text": [
      "Boron\n",
      "Boron\n"
     ]
    }
   ],
   "source": [
    "elements = ['Hydrogen',\n",
    "            'Helium', 'Lithium',\n",
    "            'Beryllium', 'Boron', 'Carbon',\n",
    "            'Nitrogen', 'Oxygen',\n",
    "            'Fluorine',\n",
    "            'Neon']\n",
    "print(elements[4])\n",
    "print(elements[-6])"
   ]
  },
  {
   "cell_type": "markdown",
   "id": "a7de5a55",
   "metadata": {},
   "source": [
    "# Excercise 4"
   ]
  },
  {
   "cell_type": "code",
   "execution_count": 20,
   "id": "e39332e8",
   "metadata": {},
   "outputs": [
    {
     "name": "stdout",
     "output_type": "stream",
     "text": [
      "9\n"
     ]
    }
   ],
   "source": [
    "import numpy\n",
    "numbers=[45, 60, 1, 30, 96, 1, 96, 57, 16, 1,\n",
    "        99, 62, 86, 43, 42, 60, 59, 1, 1, 35,\n",
    "        83, 47, 34, 28, 68, 23, 22, 92, 1, 79,\n",
    "        1, 29, 94, 72, 46, 47, 1, 74, 32, 20,\n",
    "        8, 37, 35, 1, 89, 29, 86, 19, 43, 61]\n",
    "array1=numpy.array(numbers)\n",
    "print(sum(array1==1))                  "
   ]
  },
  {
   "cell_type": "markdown",
   "id": "370486d6",
   "metadata": {},
   "source": [
    "# Excercise 5"
   ]
  },
  {
   "cell_type": "code",
   "execution_count": 21,
   "id": "6cd06bd7",
   "metadata": {},
   "outputs": [
    {
     "name": "stdout",
     "output_type": "stream",
     "text": [
      "1.\n",
      "the mean of x_1 is 38.5\n",
      "the mean of x_2 is 302.5\n",
      "2.\n",
      "the standard deviation of x_1 is 32.41990129534635\n",
      "the standard deviation of x_2 is 326.0893282522444\n",
      "3.\n",
      "The pearson correlation coefficient of both data sets is 0.9871796626270702, calculated out.\n",
      "Using the method for the pearson correlation coefficient directly, we get 0.9871796626270701\n"
     ]
    }
   ],
   "source": [
    "x_1 = [1, 4, 9, 16, 25, 36, 49, 64, 81, 100]\n",
    "x_2 = [1, 8, 27, 64, 125, 216, 343, 512, 729, 1000]\n",
    "\n",
    "array1=numpy.array(x_1)\n",
    "array2=numpy.array(x_2)\n",
    "\n",
    "m1= array1.mean()\n",
    "m2= array2.mean()\n",
    "a1_new= array1-m1\n",
    "a2_new= array2-m2\n",
    "array3= a1_new*a2_new\n",
    "print('1.')\n",
    "print(f'the mean of x_1 is {array1.mean()}')\n",
    "print(f'the mean of x_2 is {array2.mean()}')\n",
    "print(\"2.\")\n",
    "print(f'the standard deviation of x_1 is {array1.std()}')\n",
    "print(f'the standard deviation of x_2 is {array2.std()}')\n",
    "print(\"3.\")\n",
    "print(f'The pearson correlation coefficient of both data sets is {(array3.mean())/((array1.std())*(array2.std()))}, calculated out.')\n",
    "print(f'Using the method for the pearson correlation coefficient directly, we get {numpy.corrcoef([array1,array2])[0][1]}')"
   ]
  },
  {
   "cell_type": "markdown",
   "id": "920287e3",
   "metadata": {},
   "source": [
    "Note that numpy has a method to calculate the pearson correlation coefficient.This gives us a matrix of values, since the method is general, allowing us to use it for multiple datasets simultaneously, which gives us a matrix of values.\n",
    "\n",
    "I have indexed out the value that is relevant to us for display purposes."
   ]
  }
 ],
 "metadata": {
  "kernelspec": {
   "display_name": "base",
   "language": "python",
   "name": "python3"
  },
  "language_info": {
   "codemirror_mode": {
    "name": "ipython",
    "version": 3
   },
   "file_extension": ".py",
   "mimetype": "text/x-python",
   "name": "python",
   "nbconvert_exporter": "python",
   "pygments_lexer": "ipython3",
   "version": "3.13.5"
  },
  "toc": {
   "base_numbering": 1,
   "nav_menu": {},
   "number_sections": true,
   "sideBar": true,
   "skip_h1_title": false,
   "title_cell": "Table of Contents",
   "title_sidebar": "Contents",
   "toc_cell": false,
   "toc_position": {},
   "toc_section_display": true,
   "toc_window_display": false
  }
 },
 "nbformat": 4,
 "nbformat_minor": 5
}
