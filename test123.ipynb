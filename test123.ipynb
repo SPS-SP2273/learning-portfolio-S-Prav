{
 "cells": [
  {
   "cell_type": "code",
   "execution_count": 1,
   "id": "8da6c6da-6b03-463b-a9c0-cf4eca906429",
   "metadata": {},
   "outputs": [
    {
     "name": "stdout",
     "output_type": "stream",
     "text": [
      "hello world\n"
     ]
    }
   ],
   "source": [
    "print('hello world')"
   ]
  },
  {
   "cell_type": "markdown",
   "id": "5b7a3c38-4358-4077-a38b-305c7090386b",
   "metadata": {},
   "source": [
    "*Good morning*"
   ]
  },
  {
   "cell_type": "code",
   "execution_count": 21,
   "id": "f999d73c-5b53-4dcb-acb0-528a75a5f7aa",
   "metadata": {},
   "outputs": [
    {
     "name": "stdout",
     "output_type": "stream",
     "text": [
      "                       \n",
      "h                     h\n",
      "he                   eh\n",
      "hel                 leh\n",
      "hell               lleh\n",
      "hello             olleh\n",
      "hello             olleh\n",
      "hello w         w olleh\n",
      "hello wo       ow olleh\n",
      "hello wor     row olleh\n",
      "hello worl   lrow olleh\n",
      "hello world dlrow olleh\n",
      "hello worl\n",
      "hello wor\n",
      "hello wo\n",
      "hello w\n",
      "hello \n",
      "hello\n",
      "hell\n",
      "hel\n",
      "he\n",
      "h\n"
     ]
    }
   ],
   "source": [
    "text=\"hello world\"\n",
    "for i in range(12):\n",
    "    print(text[:i]+' '*((11-i)*2+1)+text[:i][::-1])\n",
    "for i in range(1,11):\n",
    "    print(text[:-i])"
   ]
  },
  {
   "cell_type": "code",
   "execution_count": null,
   "id": "9f59423f-54ce-42e4-ba8e-4c6ded29c08e",
   "metadata": {},
   "outputs": [],
   "source": []
  },
  {
   "cell_type": "code",
   "execution_count": null,
   "id": "2ae517b0-3fb4-4ce6-a8e5-a85394dc19a3",
   "metadata": {},
   "outputs": [],
   "source": []
  }
 ],
 "metadata": {
  "kernelspec": {
   "display_name": "Python 3 (ipykernel)",
   "language": "python",
   "name": "python3"
  },
  "language_info": {
   "codemirror_mode": {
    "name": "ipython",
    "version": 3
   },
   "file_extension": ".py",
   "mimetype": "text/x-python",
   "name": "python",
   "nbconvert_exporter": "python",
   "pygments_lexer": "ipython3",
   "version": "3.10.18"
  }
 },
 "nbformat": 4,
 "nbformat_minor": 5
}
